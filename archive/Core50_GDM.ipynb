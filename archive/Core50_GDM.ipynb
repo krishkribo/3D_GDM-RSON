{
 "cells": [
  {
   "cell_type": "code",
   "execution_count": 3,
   "id": "alone-corrections",
   "metadata": {},
   "outputs": [],
   "source": [
    "import numpy as np \n",
    "import cv2\n",
    "from tqdm import tqdm\n",
    "#\n",
    "import tensorflow as tf \n",
    "from tensorflow.keras import layers, models\n",
    "from tensorflow.keras.applications import VGG16\n",
    "from tensorflow.keras.preprocessing import image_dataset_from_directory\n",
    "from tensorflow.keras.preprocessing.image import  ImageDataGenerator\n",
    "from sklearn.model_selection import train_test_split\n",
    "#\n",
    "import os\n",
    "import sys\n",
    "#\n",
    "import gtls\n",
    "from episodic_gwr import EpisodicGWR"
   ]
  },
  {
   "cell_type": "code",
   "execution_count": 4,
   "id": "floating-timber",
   "metadata": {},
   "outputs": [],
   "source": [
    "def load_pre_trained(input_data):\n",
    "    vgg_net = VGG16(include_top=False,weights='imagenet')\n",
    "    vgg_net.trainable = False\n",
    "    x = vgg_net(input_data)\n",
    "    #x = layers.Conv2D(256,(1,1),activation='relu')(x)\n",
    "    #x = layers.MaxPool2D((2,2))(x)\n",
    "    #x = layers.Conv2D(256,(1,1),activation='relu')(x)\n",
    "    x = layers.MaxPool2D((4,4))(x)\n",
    "    x = layers.Flatten()(x)\n",
    "    #x = layers.Dense(256,activation='relu')(x)\n",
    "    return x\n",
    "\n",
    "def get_data():\n",
    "    dataset_path = \"../../DMRSON_dataset_files/dataset/core50_128x128/core50_128x128/\"\n",
    "    working_dir = os.path.abspath(os.path.join('..'))\n",
    "    non_training_scenes = ['s3','s7','s10']\n",
    "    training_scenes = ['s1']\n",
    "    if working_dir not in sys.path:\n",
    "        sys.path.append(working_dir)\n",
    "    data = []\n",
    "    objects = []\n",
    "    labels = []\n",
    "    images = []\n",
    "    for s in tqdm(os.listdir(dataset_path)):\n",
    "        if s in training_scenes:\n",
    "            for d in os.listdir(dataset_path+'/'+s):\n",
    "                objects.append(d)\n",
    "                for img in os.listdir(dataset_path+'/'+s+'/'+d):\n",
    "                    images = cv2.resize(cv2.imread(dataset_path+'/'+s+'/'+d+'/'+img),(244,244)).astype(np.float32)\n",
    "                    labels = objects.index(d)\n",
    "                    data.append([images,labels])\n",
    "            objects = []\n",
    "    #print(np.shape(data))\n",
    "    #print(data)\n",
    "    \n",
    "    #return np.array(images,dtype=object), np.array(labels,dtype=object)\n",
    "    return np.array(data,dtype=object)\n",
    "\n",
    "def write_file(file,value):\n",
    "    # save the numpy array \n",
    "    if not file in os.listdir():\n",
    "        with open(file,'wb') as f:\n",
    "            np.save(f,value)\n",
    "            print(\"Features stored \")\n",
    "\n",
    "def load_file(file):\n",
    "    # load features \n",
    "    with open(file,'rb') as f:\n",
    "        value = np.load(f)\n",
    "        print(\"Features readed\")\n",
    "    \n",
    "    return value\n",
    "\n"
   ]
  },
  {
   "cell_type": "code",
   "execution_count": 5,
   "id": "incorrect-patent",
   "metadata": {},
   "outputs": [
    {
     "output_type": "stream",
     "name": "stderr",
     "text": [
      "100%|██████████| 11/11 [00:13<00:00,  1.20s/it]\n"
     ]
    }
   ],
   "source": [
    "extract_features = True\n",
    "\n",
    "dataset = get_data()\n",
    "#data = np.array([d[0] for d in dataset])\n",
    "#labels = np.array([l[1]for l in dataset])\n",
    "print(np.shape(dataset))\n",
    "#print(np.shape(data))\n",
    "#print(np.shape(labels))"
   ]
  },
  {
   "cell_type": "code",
   "execution_count": 1,
   "id": "a680be5d-ebd9-4d28-a697-a4c1d2603b63",
   "metadata": {},
   "outputs": [
    {
     "output_type": "error",
     "ename": "NameError",
     "evalue": "name 'data' is not defined",
     "traceback": [
      "\u001b[0;31m---------------------------------------------------------------------------\u001b[0m",
      "\u001b[0;31mNameError\u001b[0m                                 Traceback (most recent call last)",
      "\u001b[0;32m<ipython-input-1-99136b1a33a8>\u001b[0m in \u001b[0;36m<module>\u001b[0;34m\u001b[0m\n\u001b[1;32m      6\u001b[0m \u001b[0;34m\u001b[0m\u001b[0m\n\u001b[1;32m      7\u001b[0m \u001b[0;31m#(x_train,x_val,y_train,y_val) = train_test_split(data,labels,test_size=0.0,random_state=None, shuffle=False)\u001b[0m\u001b[0;34m\u001b[0m\u001b[0;34m\u001b[0m\u001b[0;34m\u001b[0m\u001b[0m\n\u001b[0;32m----> 8\u001b[0;31m \u001b[0mx_train\u001b[0m \u001b[0;34m=\u001b[0m \u001b[0mdata\u001b[0m\u001b[0;34m/\u001b[0m\u001b[0;36m255.0\u001b[0m\u001b[0;34m\u001b[0m\u001b[0;34m\u001b[0m\u001b[0m\n\u001b[0m\u001b[1;32m      9\u001b[0m \u001b[0my_train\u001b[0m \u001b[0;34m=\u001b[0m \u001b[0mlabels\u001b[0m\u001b[0;34m\u001b[0m\u001b[0;34m\u001b[0m\u001b[0m\n\u001b[1;32m     10\u001b[0m \u001b[0mx_val\u001b[0m \u001b[0;34m=\u001b[0m \u001b[0;36m0\u001b[0m\u001b[0;34m\u001b[0m\u001b[0;34m\u001b[0m\u001b[0m\n",
      "\u001b[0;31mNameError\u001b[0m: name 'data' is not defined"
     ]
    }
   ],
   "source": [
    "e_label = [50,50]\n",
    "s_label = [10]\n",
    "\n",
    "\n",
    "num_of_classes = e_label[0]\n",
    "\n",
    "#(x_train,x_val,y_train,y_val) = train_test_split(data,labels,test_size=0.0,random_state=None, shuffle=False)\n",
    "x_train = data/255.0\n",
    "y_train = labels\n",
    "x_val = 0\n",
    "y_val = 0\n",
    "\n",
    "print(f\"x train shape : {np.shape(x_train)}\")\n",
    "print(f\"y train shape : {np.shape(y_train)}\")\n",
    "print(f\"x validation shape : {np.shape(x_val)}\")\n",
    "print(f\"y validation shape : {np.shape(y_val)}\")\n",
    "\n",
    "\n",
    "# normalize the data \n",
    "#x_train = x_train/255\n",
    "#x_val = x_val/255\n",
    "\n",
    "x_train = np.asarray(x_train).astype('float32')\n",
    "x_val = np.asarray(x_val).astype('float32')\n",
    "y_train = np.asarray(y_train).astype('float32')\n",
    "y_val = np.asarray(y_val).astype('float32')\n",
    "\n",
    "#print(y_train)\n",
    "#y_train = tf.keras.utils.to_categorical(y_train, num_of_classes)\n",
    "#y_val = tf.keras.utils.to_categorical(y_val, num_of_classes)\n",
    "#print(y_train)"
   ]
  },
  {
   "cell_type": "code",
   "execution_count": 1,
   "id": "2599f9e0-a57d-42da-9fd9-bf18d81d3f94",
   "metadata": {},
   "outputs": [
    {
     "output_type": "error",
     "ename": "NameError",
     "evalue": "name 'y_train' is not defined",
     "traceback": [
      "\u001b[0;31m---------------------------------------------------------------------------\u001b[0m",
      "\u001b[0;31mNameError\u001b[0m                                 Traceback (most recent call last)",
      "\u001b[0;32m<ipython-input-1-7174a4ddae5f>\u001b[0m in \u001b[0;36m<module>\u001b[0;34m\u001b[0m\n\u001b[0;32m----> 1\u001b[0;31m \u001b[0mprint\u001b[0m\u001b[0;34m(\u001b[0m\u001b[0my_train\u001b[0m\u001b[0;34m)\u001b[0m\u001b[0;34m\u001b[0m\u001b[0;34m\u001b[0m\u001b[0m\n\u001b[0m\u001b[1;32m      2\u001b[0m \u001b[0mx_train\u001b[0m\u001b[0;34m.\u001b[0m\u001b[0mshape\u001b[0m\u001b[0;34m[\u001b[0m\u001b[0;36m3\u001b[0m\u001b[0;34m]\u001b[0m\u001b[0;34m\u001b[0m\u001b[0;34m\u001b[0m\u001b[0m\n\u001b[1;32m      3\u001b[0m \u001b[0;31m#VGG16().summary()\u001b[0m\u001b[0;34m\u001b[0m\u001b[0;34m\u001b[0m\u001b[0;34m\u001b[0m\u001b[0m\n",
      "\u001b[0;31mNameError\u001b[0m: name 'y_train' is not defined"
     ]
    }
   ],
   "source": [
    "print(y_train)\n",
    "x_train.shape[3]\n",
    "#VGG16().summary()"
   ]
  },
  {
   "cell_type": "code",
   "execution_count": 2,
   "metadata": {},
   "outputs": [
    {
     "output_type": "error",
     "ename": "NameError",
     "evalue": "name 'tf' is not defined",
     "traceback": [
      "\u001b[0;31m---------------------------------------------------------------------------\u001b[0m",
      "\u001b[0;31mNameError\u001b[0m                                 Traceback (most recent call last)",
      "\u001b[0;32m<ipython-input-2-49ee6b7036cb>\u001b[0m in \u001b[0;36m<module>\u001b[0;34m\u001b[0m\n\u001b[1;32m      1\u001b[0m \u001b[0;31m# model construction\u001b[0m\u001b[0;34m\u001b[0m\u001b[0;34m\u001b[0m\u001b[0;34m\u001b[0m\u001b[0m\n\u001b[0;32m----> 2\u001b[0;31m \u001b[0minput_data\u001b[0m \u001b[0;34m=\u001b[0m \u001b[0mtf\u001b[0m\u001b[0;34m.\u001b[0m\u001b[0mkeras\u001b[0m\u001b[0;34m.\u001b[0m\u001b[0mInput\u001b[0m\u001b[0;34m(\u001b[0m\u001b[0mshape\u001b[0m\u001b[0;34m=\u001b[0m\u001b[0;34m(\u001b[0m\u001b[0;36m128\u001b[0m\u001b[0;34m,\u001b[0m\u001b[0;36m128\u001b[0m\u001b[0;34m,\u001b[0m\u001b[0;36m3\u001b[0m\u001b[0;34m)\u001b[0m\u001b[0;34m)\u001b[0m\u001b[0;34m\u001b[0m\u001b[0;34m\u001b[0m\u001b[0m\n\u001b[0m\u001b[1;32m      3\u001b[0m \u001b[0;31m# pre-trained cnn\u001b[0m\u001b[0;34m\u001b[0m\u001b[0;34m\u001b[0m\u001b[0;34m\u001b[0m\u001b[0m\n\u001b[1;32m      4\u001b[0m \u001b[0mx\u001b[0m \u001b[0;34m=\u001b[0m \u001b[0mload_pre_trained\u001b[0m\u001b[0;34m(\u001b[0m\u001b[0minput_data\u001b[0m\u001b[0;34m)\u001b[0m\u001b[0;34m\u001b[0m\u001b[0;34m\u001b[0m\u001b[0m\n\u001b[1;32m      5\u001b[0m \u001b[0;34m\u001b[0m\u001b[0m\n",
      "\u001b[0;31mNameError\u001b[0m: name 'tf' is not defined"
     ]
    }
   ],
   "source": [
    "# model construction\n",
    "input_data = tf.keras.Input(shape=(128,128,3))\n",
    "# pre-trained cnn\n",
    "x = load_pre_trained(input_data)\n",
    "\n",
    "model = tf.keras.Model(inputs=input_data,outputs=x)\n",
    "model.summary()"
   ]
  },
  {
   "cell_type": "code",
   "execution_count": 3,
   "id": "included-triple",
   "metadata": {},
   "outputs": [
    {
     "output_type": "error",
     "ename": "NameError",
     "evalue": "name 'extract_features' is not defined",
     "traceback": [
      "\u001b[0;31m---------------------------------------------------------------------------\u001b[0m",
      "\u001b[0;31mNameError\u001b[0m                                 Traceback (most recent call last)",
      "\u001b[0;32m<ipython-input-3-f2cc1cb1de52>\u001b[0m in \u001b[0;36m<module>\u001b[0;34m\u001b[0m\n\u001b[1;32m      1\u001b[0m \u001b[0;31m# feature extractor\u001b[0m\u001b[0;34m\u001b[0m\u001b[0;34m\u001b[0m\u001b[0;34m\u001b[0m\u001b[0m\n\u001b[1;32m      2\u001b[0m \u001b[0;31m# uncommnet to generate the feature extraction\u001b[0m\u001b[0;34m\u001b[0m\u001b[0;34m\u001b[0m\u001b[0;34m\u001b[0m\u001b[0m\n\u001b[0;32m----> 3\u001b[0;31m \u001b[0;32mif\u001b[0m \u001b[0mextract_features\u001b[0m \u001b[0;34m==\u001b[0m \u001b[0;32mTrue\u001b[0m\u001b[0;34m:\u001b[0m\u001b[0;34m\u001b[0m\u001b[0;34m\u001b[0m\u001b[0m\n\u001b[0m\u001b[1;32m      4\u001b[0m     \u001b[0mx_train_features\u001b[0m \u001b[0;34m=\u001b[0m \u001b[0mnp\u001b[0m\u001b[0;34m.\u001b[0m\u001b[0mzeros\u001b[0m\u001b[0;34m(\u001b[0m\u001b[0;34m(\u001b[0m\u001b[0mx_train\u001b[0m\u001b[0;34m.\u001b[0m\u001b[0mshape\u001b[0m\u001b[0;34m[\u001b[0m\u001b[0;36m0\u001b[0m\u001b[0;34m]\u001b[0m\u001b[0;34m,\u001b[0m\u001b[0;36m512\u001b[0m\u001b[0;34m)\u001b[0m\u001b[0;34m)\u001b[0m\u001b[0;34m\u001b[0m\u001b[0;34m\u001b[0m\u001b[0m\n\u001b[1;32m      5\u001b[0m     \u001b[0;32mfor\u001b[0m \u001b[0mi\u001b[0m \u001b[0;32min\u001b[0m \u001b[0mrange\u001b[0m\u001b[0;34m(\u001b[0m\u001b[0mx_train\u001b[0m\u001b[0;34m.\u001b[0m\u001b[0mshape\u001b[0m\u001b[0;34m[\u001b[0m\u001b[0;36m0\u001b[0m\u001b[0;34m]\u001b[0m\u001b[0;34m)\u001b[0m\u001b[0;34m:\u001b[0m\u001b[0;34m\u001b[0m\u001b[0;34m\u001b[0m\u001b[0m\n",
      "\u001b[0;31mNameError\u001b[0m: name 'extract_features' is not defined"
     ]
    }
   ],
   "source": [
    "# feature extractor\n",
    "# uncommnet to generate the feature extraction \n",
    "if extract_features == True:\n",
    "    x_train_features = np.zeros((x_train.shape[0],512))\n",
    "    for i in range(x_train.shape[0]):\n",
    "        image = x_train[i]\n",
    "        image = image.reshape((1,image.shape[0],image.shape[1],image.shape[2]))\n",
    "        x_train_features[i] = model.predict(image)\n",
    "    x_train_features.shape\n"
   ]
  },
  {
   "cell_type": "code",
   "execution_count": 10,
   "id": "1cf32fa0-3f31-4f92-99f1-b6819c85b13a",
   "metadata": {},
   "outputs": [],
   "source": [
    "# GDM params \n",
    "num_context = 1\n",
    "d_labels = np.zeros((len(e_label),len(y_train)))\n",
    "d_labels[0] = y_train\n",
    "d_labels[1] = y_train\n",
    "epochs = 5\n",
    "a_threshold = [0.3,0.001]\n",
    "beta = 0.7\n",
    "learning_rate = [0.5,0.005]\n",
    "context = True"
   ]
  },
  {
   "cell_type": "code",
   "execution_count": 11,
   "id": "6206b7d7-4a86-47fe-a04a-0e6ca7d0062d",
   "metadata": {},
   "outputs": [
    {
     "name": "stdout",
     "output_type": "stream",
     "text": [
      "11991\n"
     ]
    },
    {
     "ename": "IndexError",
     "evalue": "index 24 is out of bounds for axis 1 with size 10",
     "output_type": "error",
     "traceback": [
      "\u001b[0;31m---------------------------------------------------------------------------\u001b[0m",
      "\u001b[0;31mIndexError\u001b[0m                                Traceback (most recent call last)",
      "\u001b[0;32m<ipython-input-11-fe137fc8d0cd>\u001b[0m in \u001b[0;36m<module>\u001b[0;34m\u001b[0m\n\u001b[1;32m      8\u001b[0m \u001b[0;34m\u001b[0m\u001b[0m\n\u001b[1;32m      9\u001b[0m \u001b[0;31m# batch learning\u001b[0m\u001b[0;34m\u001b[0m\u001b[0;34m\u001b[0m\u001b[0;34m\u001b[0m\u001b[0m\n\u001b[0;32m---> 10\u001b[0;31m \u001b[0me_NN\u001b[0m\u001b[0;34m,\u001b[0m\u001b[0me_qerr\u001b[0m \u001b[0;34m=\u001b[0m \u001b[0mg_episodic\u001b[0m\u001b[0;34m.\u001b[0m\u001b[0mtrain_egwr\u001b[0m\u001b[0;34m(\u001b[0m\u001b[0mx_train_features\u001b[0m\u001b[0;34m,\u001b[0m\u001b[0md_labels\u001b[0m\u001b[0;34m,\u001b[0m\u001b[0mepochs\u001b[0m\u001b[0;34m,\u001b[0m \u001b[0ma_threshold\u001b[0m\u001b[0;34m[\u001b[0m\u001b[0;36m0\u001b[0m\u001b[0;34m]\u001b[0m\u001b[0;34m,\u001b[0m \u001b[0mbeta\u001b[0m\u001b[0;34m,\u001b[0m \u001b[0mlearning_rate\u001b[0m\u001b[0;34m,\u001b[0m \u001b[0mcontext\u001b[0m\u001b[0;34m,\u001b[0m \u001b[0mregulated\u001b[0m\u001b[0;34m=\u001b[0m\u001b[0;36m0\u001b[0m\u001b[0;34m)\u001b[0m\u001b[0;34m\u001b[0m\u001b[0;34m\u001b[0m\u001b[0m\n\u001b[0m",
      "\u001b[0;32m~/Documents/university_files/Thesis/base_line/core50_baseline/episodic_gwr.py\u001b[0m in \u001b[0;36mtrain_egwr\u001b[0;34m(self, ds_vectors, ds_labels, epochs, a_threshold, beta, l_rates, context, regulated)\u001b[0m\n\u001b[1;32m    181\u001b[0m \u001b[0;34m\u001b[0m\u001b[0m\n\u001b[1;32m    182\u001b[0m                         \u001b[0;31m# Add label histogram\u001b[0m\u001b[0;34m\u001b[0m\u001b[0;34m\u001b[0m\u001b[0;34m\u001b[0m\u001b[0m\n\u001b[0;32m--> 183\u001b[0;31m                         \u001b[0mself\u001b[0m\u001b[0;34m.\u001b[0m\u001b[0mupdate_labels\u001b[0m\u001b[0;34m(\u001b[0m\u001b[0mn_index\u001b[0m\u001b[0;34m,\u001b[0m \u001b[0mlabel\u001b[0m\u001b[0;34m,\u001b[0m \u001b[0mnew_node\u001b[0m \u001b[0;34m=\u001b[0m \u001b[0;32mTrue\u001b[0m\u001b[0;34m)\u001b[0m\u001b[0;34m\u001b[0m\u001b[0;34m\u001b[0m\u001b[0m\n\u001b[0m\u001b[1;32m    184\u001b[0m \u001b[0;34m\u001b[0m\u001b[0m\n\u001b[1;32m    185\u001b[0m                         \u001b[0;31m# Update edges and ages\u001b[0m\u001b[0;34m\u001b[0m\u001b[0;34m\u001b[0m\u001b[0;34m\u001b[0m\u001b[0m\n",
      "\u001b[0;32m~/Documents/university_files/Thesis/base_line/core50_baseline/episodic_gwr.py\u001b[0m in \u001b[0;36mupdate_labels\u001b[0;34m(self, bmu, label, **kwargs)\u001b[0m\n\u001b[1;32m     80\u001b[0m                 \u001b[0mnew_alabel\u001b[0m \u001b[0;34m=\u001b[0m \u001b[0mnp\u001b[0m\u001b[0;34m.\u001b[0m\u001b[0mzeros\u001b[0m\u001b[0;34m(\u001b[0m\u001b[0;34m(\u001b[0m\u001b[0;36m1\u001b[0m\u001b[0;34m,\u001b[0m \u001b[0mself\u001b[0m\u001b[0;34m.\u001b[0m\u001b[0mnum_labels\u001b[0m\u001b[0;34m[\u001b[0m\u001b[0ml\u001b[0m\u001b[0;34m]\u001b[0m\u001b[0;34m)\u001b[0m\u001b[0;34m)\u001b[0m\u001b[0;34m\u001b[0m\u001b[0;34m\u001b[0m\u001b[0m\n\u001b[1;32m     81\u001b[0m                 \u001b[0;32mif\u001b[0m \u001b[0mlabel\u001b[0m\u001b[0;34m[\u001b[0m\u001b[0ml\u001b[0m\u001b[0;34m]\u001b[0m \u001b[0;34m!=\u001b[0m \u001b[0;34m-\u001b[0m\u001b[0;36m1\u001b[0m\u001b[0;34m:\u001b[0m\u001b[0;34m\u001b[0m\u001b[0;34m\u001b[0m\u001b[0m\n\u001b[0;32m---> 82\u001b[0;31m                     \u001b[0mnew_alabel\u001b[0m\u001b[0;34m[\u001b[0m\u001b[0;36m0\u001b[0m\u001b[0;34m,\u001b[0m \u001b[0mint\u001b[0m\u001b[0;34m(\u001b[0m\u001b[0mlabel\u001b[0m\u001b[0;34m[\u001b[0m\u001b[0ml\u001b[0m\u001b[0;34m]\u001b[0m\u001b[0;34m)\u001b[0m\u001b[0;34m]\u001b[0m \u001b[0;34m=\u001b[0m \u001b[0mself\u001b[0m\u001b[0;34m.\u001b[0m\u001b[0ma_inc\u001b[0m\u001b[0;34m\u001b[0m\u001b[0;34m\u001b[0m\u001b[0m\n\u001b[0m\u001b[1;32m     83\u001b[0m                 \u001b[0mself\u001b[0m\u001b[0;34m.\u001b[0m\u001b[0malabels\u001b[0m\u001b[0;34m[\u001b[0m\u001b[0ml\u001b[0m\u001b[0;34m]\u001b[0m \u001b[0;34m=\u001b[0m \u001b[0mnp\u001b[0m\u001b[0;34m.\u001b[0m\u001b[0mconcatenate\u001b[0m\u001b[0;34m(\u001b[0m\u001b[0;34m(\u001b[0m\u001b[0mself\u001b[0m\u001b[0;34m.\u001b[0m\u001b[0malabels\u001b[0m\u001b[0;34m[\u001b[0m\u001b[0ml\u001b[0m\u001b[0;34m]\u001b[0m\u001b[0;34m,\u001b[0m \u001b[0mnew_alabel\u001b[0m\u001b[0;34m)\u001b[0m\u001b[0;34m,\u001b[0m \u001b[0maxis\u001b[0m\u001b[0;34m=\u001b[0m\u001b[0;36m0\u001b[0m\u001b[0;34m)\u001b[0m\u001b[0;34m\u001b[0m\u001b[0;34m\u001b[0m\u001b[0m\n\u001b[1;32m     84\u001b[0m \u001b[0;34m\u001b[0m\u001b[0m\n",
      "\u001b[0;31mIndexError\u001b[0m: index 24 is out of bounds for axis 1 with size 10"
     ]
    }
   ],
   "source": [
    "\n",
    "# episodic memory -- init\n",
    "g_episodic = EpisodicGWR()\n",
    "g_episodic.init_network(x_train_features,e_label,num_context=num_context)\n",
    "\n",
    "# semantic memory -- init\n",
    "g_semantic = EpisodicGWR()\n",
    "g_semantic.init_network(x_train_features,s_label,num_context=num_context)\n",
    "\n",
    "# batch learning \n",
    "e_NN,e_qerr = g_episodic.train_egwr(x_train_features,d_labels,epochs, a_threshold[0], beta, learning_rate, context, regulated=0)"
   ]
  },
  {
   "cell_type": "code",
   "execution_count": null,
   "id": "higher-possible",
   "metadata": {},
   "outputs": [],
   "source": [
    "\"\"\"\n",
    "print(x_train[0].shape)\n",
    "\n",
    "#baseModel = VGG16()\n",
    "baseModel = VGG16(weights=\"imagenet\", include_top=False,\n",
    "\tinput_tensor=tf.keras.Input(shape=(128, 128, 3)))\n",
    "#baseModel = layers.Flatten()(baseModel)\n",
    "#baseModel.summary()\n",
    "\n",
    "model = tf.keras.Model(inputs=baseModel.inputs, outputs=baseModel.layers[-2].output)\n",
    "\n",
    "image = x_train[0]\n",
    "image = image.reshape((1,image.shape[0],image.shape[1],image.shape[2]))\n",
    "\n",
    "res = model.predict(image)\n",
    "res.shape\n",
    "\"\"\""
   ]
  },
  {
   "cell_type": "code",
   "execution_count": null,
   "id": "b0da4033-dda1-4e4f-a016-37aad1d596c0",
   "metadata": {},
   "outputs": [],
   "source": []
  },
  {
   "cell_type": "code",
   "execution_count": null,
   "id": "17852ab2-0c79-4a1f-afb4-5a04abf04a9a",
   "metadata": {},
   "outputs": [],
   "source": []
  }
 ],
 "metadata": {
  "kernelspec": {
   "name": "python388jvsc74a57bd01fe83e91bd22263c6a86fac600a8c321725db012e00d865af329c541a09f5309",
   "display_name": "Python 3.8.8 64-bit ('project_env_1': conda)"
  },
  "language_info": {
   "codemirror_mode": {
    "name": "ipython",
    "version": 3
   },
   "file_extension": ".py",
   "mimetype": "text/x-python",
   "name": "python",
   "nbconvert_exporter": "python",
   "pygments_lexer": "ipython3",
   "version": "3.8.8"
  },
  "metadata": {
   "interpreter": {
    "hash": "1fe83e91bd22263c6a86fac600a8c321725db012e00d865af329c541a09f5309"
   }
  }
 },
 "nbformat": 4,
 "nbformat_minor": 5
}